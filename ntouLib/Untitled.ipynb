{
 "cells": [
  {
   "cell_type": "code",
   "execution_count": 1,
   "metadata": {},
   "outputs": [],
   "source": [
    "import cv2"
   ]
  },
  {
   "cell_type": "code",
   "execution_count": 2,
   "metadata": {},
   "outputs": [],
   "source": [
    "import os"
   ]
  },
  {
   "cell_type": "code",
   "execution_count": 21,
   "metadata": {},
   "outputs": [
    {
     "name": "stdout",
     "output_type": "stream",
     "text": [
      "C:\\projects\\opencv-python\\opencv\\modules\\imgcodecs\\src\\loadsave.cpp:604: error: (-2) could not find a writer for the specified extension in function cv::imwrite_\n",
      "\n",
      "error\n",
      "C:\\projects\\opencv-python\\opencv\\modules\\imgcodecs\\src\\loadsave.cpp:604: error: (-2) could not find a writer for the specified extension in function cv::imwrite_\n",
      "\n",
      "error\n",
      "C:\\projects\\opencv-python\\opencv\\modules\\imgcodecs\\src\\loadsave.cpp:604: error: (-2) could not find a writer for the specified extension in function cv::imwrite_\n",
      "\n",
      "error\n"
     ]
    }
   ],
   "source": [
    "for i in os.listdir(\"F:/hw2/Homework 3/ntouLib\"):\n",
    "    try:\n",
    "        filePath = os.path.join(\"F:/hw2/Homework 3/ntouLib\",i)\n",
    "        #print(filePath)\n",
    "        mat = cv2.imread(filePath)\n",
    "        #print(mat)\n",
    "        mat2 = cv2.Canny(mat,40,100)\n",
    "        #cv2.imshow(\"demo\",mat2)\n",
    "        #cv2.waitKey(0)\n",
    "        cv2.imwrite(os.path.join(\"output\",i),mat2)\n",
    "    except Exception as e:\n",
    "        print(e)\n",
    "        print(\"error\")"
   ]
  },
  {
   "cell_type": "code",
   "execution_count": null,
   "metadata": {},
   "outputs": [],
   "source": []
  }
 ],
 "metadata": {
  "kernelspec": {
   "display_name": "Python 3",
   "language": "python",
   "name": "python3"
  },
  "language_info": {
   "codemirror_mode": {
    "name": "ipython",
    "version": 3
   },
   "file_extension": ".py",
   "mimetype": "text/x-python",
   "name": "python",
   "nbconvert_exporter": "python",
   "pygments_lexer": "ipython3",
   "version": "3.5.4"
  }
 },
 "nbformat": 4,
 "nbformat_minor": 2
}
